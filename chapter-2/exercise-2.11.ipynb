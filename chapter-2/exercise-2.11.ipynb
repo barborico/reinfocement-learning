{
  "cells": [
    {
      "cell_type": "markdown",
      "source": [
        "# Exercise 2.11\n",
        "\n",
        "Make a figure analogous to Figure 2.6 for the nonstationary case outlined in Exercise 2.5. Include the constant-step-size ε-greedy algorithm with α = 0.1. Use runs of 200,000 steps and, as a performance measure for each algorithm and parameter setting, use the average reward over the last 100,000 steps.\n",
        "\n",
        "___\n",
        "\n",
        "The algorithms I will include are:\n",
        "- constant-step-size ε-greedy with α = 0.1 (varying ε)\n",
        "- constant-step-size ε-greedy with optimistic initialization and α = 0.1 (varying *Q0*)\n",
        "- gradient (varying α)\n",
        "- upper confidence bound (varying *c*)\n",
        "\n",
        "I will vary each of these parameters from 1/128 to 4 by factors of 2."
      ],
      "metadata": {
        "nteract": {
          "transient": {
            "deleting": false
          }
        }
      }
    },
    {
      "cell_type": "code",
      "source": [
        "using Plots\n",
        "using Random\n",
        "using Statistics\n",
        "using StatsBase"
      ],
      "outputs": [],
      "execution_count": null,
      "metadata": {
        "collapsed": true,
        "outputExpanded": false,
        "jupyter": {
          "source_hidden": false,
          "outputs_hidden": false
        },
        "nteract": {
          "transient": {
            "deleting": false
          }
        },
        "execution": {
          "iopub.status.busy": "2020-05-16T19:14:31.407Z",
          "iopub.execute_input": "2020-05-16T19:14:33.973Z",
          "iopub.status.idle": "2020-05-16T19:15:13.645Z"
        }
      }
    },
    {
      "cell_type": "code",
      "source": [
        "# SETTINGS\n",
        "\n",
        "const VERBOSE = true\n",
        "println(\"Threads: $(Threads.nthreads())\")\n",
        "\n",
        "# simulation parameters\n",
        "const K = 10\n",
        "const SIMULATIONS = 2000\n",
        "const STEPS = 1000 #200000\n",
        "const ALPHA = 0.1 # for ε-greedy and UCB\n",
        "const EPSILON = 0.1 # for optimistic ε-greedy\n",
        "\n",
        "# hyperparameter values\n",
        "const HYPERPARAM_VALUES = [2.0^n for n in -7:2]"
      ],
      "outputs": [],
      "execution_count": null,
      "metadata": {
        "collapsed": true,
        "outputExpanded": false,
        "jupyter": {
          "source_hidden": false,
          "outputs_hidden": false
        },
        "nteract": {
          "transient": {
            "deleting": false
          }
        },
        "execution": {
          "iopub.status.busy": "2020-05-16T19:22:51.260Z",
          "iopub.execute_input": "2020-05-16T19:22:53.584Z",
          "iopub.status.idle": "2020-05-16T19:22:58.274Z"
        }
      }
    },
    {
      "cell_type": "code",
      "source": [
        "# BANDIT SIMULATION HELPERS\n",
        "\n",
        "function get_reward(values::Array{Float64,1}, action::Int64)::Float64\n",
        "    # sample from the normal distribution with variance 1 (i.e. stdev 1) and mean equal to the value of the action\n",
        "    values[action] + randn()\n",
        "end\n",
        "\n",
        "function update_estimated_values!(estimated_values::Array{Float64,1}, action::Int64, reward::Float64)\n",
        "    # incremental update of estimated values\n",
        "    old_estimate = estimated_values[action]\n",
        "    new_estimate = old_estimate + ALPHA * (reward - old_estimate)\n",
        "    estimated_values[action] = new_estimate\n",
        "end\n",
        "\n",
        "function perturb_values!(values::Array{Float64,1})\n",
        "    for i in 1:K\n",
        "        # add a normally distributed increment with mean 0 and standard deviation 0.01\n",
        "        values[i] += 0.01 * randn()\n",
        "    end\n",
        "end\n",
        "\n",
        "function run_simulation!(model)::Float64\n",
        "    # reality\n",
        "    values = zeros(K)\n",
        "\n",
        "    # track model performance\n",
        "    rewards = zeros(STEPS)\n",
        "\n",
        "    for step in 1:STEPS\n",
        "        # run a single step, updating the model\n",
        "        reward = run_step!(values, model)\n",
        "\n",
        "        # track performance\n",
        "        rewards[step] = reward\n",
        "\n",
        "        # permute true values (nonstationary)\n",
        "        perturb_values!(values)\n",
        "    end\n",
        "\n",
        "    # return average reward over second half of simulation\n",
        "    mean(rewards[(fld(STEPS, 2) + 1):STEPS])\n",
        "end\n",
        "\n",
        "function test_model(model)::Float64\n",
        "    performances = zeros(SIMULATIONS)\n",
        "    Threads.@threads for i in 1:SIMULATIONS\n",
        "        performances[i] = run_simulation!(deepcopy(model))\n",
        "    end\n",
        "\n",
        "    mean(performances)\n",
        "end;"
      ],
      "outputs": [],
      "execution_count": null,
      "metadata": {
        "collapsed": true,
        "outputExpanded": false,
        "jupyter": {
          "source_hidden": false,
          "outputs_hidden": false
        },
        "nteract": {
          "transient": {
            "deleting": false
          }
        },
        "execution": {
          "iopub.status.busy": "2020-05-16T19:15:33.870Z",
          "iopub.execute_input": "2020-05-16T19:15:33.880Z",
          "iopub.status.idle": "2020-05-16T19:15:34.096Z"
        }
      }
    },
    {
      "cell_type": "code",
      "source": [
        "# EPSILON GREEDY\n",
        "\n",
        "mutable struct EpsilonGreedyModel\n",
        "    epsilon::Float64\n",
        "    estimated_values::Array{Float64,1}\n",
        "end\n",
        "\n",
        "function choose_action(model::EpsilonGreedyModel)::Int64\n",
        "    # ε-greedy algorithm\n",
        "    if rand() < model.epsilon\n",
        "        # explore\n",
        "        rand(1:K)\n",
        "    else\n",
        "        # exploit\n",
        "        argmax(model.estimated_values)\n",
        "    end\n",
        "end\n",
        "\n",
        "function run_step!(values::Array{Float64,1}, model::EpsilonGreedyModel)\n",
        "    # pick action, get reward, update model\n",
        "    action = choose_action(model)\n",
        "    reward = get_reward(values, action)\n",
        "    update_estimated_values!(model.estimated_values, action, reward)\n",
        "\n",
        "    # track performance\n",
        "    reward\n",
        "end;"
      ],
      "outputs": [],
      "execution_count": null,
      "metadata": {
        "collapsed": true,
        "outputExpanded": false,
        "jupyter": {
          "source_hidden": false,
          "outputs_hidden": false
        },
        "nteract": {
          "transient": {
            "deleting": false
          }
        },
        "execution": {
          "iopub.status.busy": "2020-05-16T19:15:34.113Z",
          "iopub.execute_input": "2020-05-16T19:15:34.126Z",
          "iopub.status.idle": "2020-05-16T19:15:34.208Z"
        }
      }
    },
    {
      "cell_type": "code",
      "source": [
        "# UPPER CONFIDENCE BOUND\n",
        "\n",
        "mutable struct UcbModel\n",
        "    c::Float64\n",
        "    estimated_values::Array{Float64,1}\n",
        "    choices::Array{Float64,1}\n",
        "    step::Int64\n",
        "end\n",
        "\n",
        "function choose_action(model::UcbModel)::Int64\n",
        "    upper_bounds = [model.estimated_values[action] + model.c * sqrt(log(model.step) / model.choices[action]) for action in 1:K]\n",
        "    action = argmax(upper_bounds)\n",
        "    model.choices[action] += 1\n",
        "    action\n",
        "end\n",
        "\n",
        "function run_step!(values::Array{Float64,1}, model::UcbModel)::Float64\n",
        "    # pick action, get reward, update model\n",
        "    model.step += 1\n",
        "    action = choose_action(model)\n",
        "    \n",
        "    reward = get_reward(values, action)\n",
        "    \n",
        "    update_estimated_values!(model.estimated_values, action, reward)\n",
        "\n",
        "    # track performance\n",
        "    reward\n",
        "end;"
      ],
      "outputs": [],
      "execution_count": null,
      "metadata": {
        "collapsed": true,
        "outputExpanded": false,
        "jupyter": {
          "source_hidden": false,
          "outputs_hidden": false
        },
        "nteract": {
          "transient": {
            "deleting": false
          }
        },
        "execution": {
          "iopub.status.busy": "2020-05-16T19:15:34.230Z",
          "iopub.execute_input": "2020-05-16T19:15:34.248Z",
          "iopub.status.idle": "2020-05-16T19:15:34.319Z"
        }
      }
    },
    {
      "cell_type": "code",
      "source": [
        "# STOCHASTIC GRADIENT ASCENT\n",
        "\n",
        "mutable struct GradientModel\n",
        "    alpha::Float64\n",
        "    preferences::Array{Float64,1}\n",
        "    baseline::Float64\n",
        "end\n",
        "\n",
        "function get_probabilities(preferences::Array{Float64,1})::Array{Float64,1}\n",
        "    # non-normalized probabilities are e^H, where H is the preference of an action\n",
        "    probabilities = exp.(preferences)\n",
        "    probabilities ./ sum(probabilities)\n",
        "end\n",
        "\n",
        "function choose_action(probabilities::Array{Float64,1})::Int64\n",
        "    sample(Weights(probabilities))\n",
        "end\n",
        "\n",
        "function update_baseline!(model::GradientModel, reward::Float64)\n",
        "    # incremental update with constant step size (since nonstationary)\n",
        "    model.baseline += model.alpha * (reward - model.baseline)\n",
        "end\n",
        "\n",
        "function update_preferences!(model::GradientModel, probabilities::Array{Float64,1}, chosen_action::Int64, reward::Float64)\n",
        "    step = model.alpha * (reward - model.baseline)\n",
        "    for action in 1:K\n",
        "        if action == chosen_action\n",
        "            model.preferences[action] += step * (1 - probabilities[action])\n",
        "        else\n",
        "            model.preferences[action] -= step * probabilities[action]\n",
        "        end\n",
        "    end\n",
        "end\n",
        "\n",
        "function run_step!(values::Array{Float64,1}, model::GradientModel)::Float64\n",
        "    # pick action, get reward, update model\n",
        "    probabilities = get_probabilities(model.preferences)\n",
        "    action = choose_action(probabilities)\n",
        "    \n",
        "    reward = get_reward(values, action)\n",
        "    if model.baseline != model.baseline # NaN, uninitialized\n",
        "        model.baseline = reward\n",
        "    end\n",
        "    \n",
        "    update_preferences!(model, probabilities, action, reward)\n",
        "    update_baseline!(model, reward)\n",
        "\n",
        "    # track performance\n",
        "    reward\n",
        "end;"
      ],
      "outputs": [],
      "execution_count": null,
      "metadata": {
        "collapsed": true,
        "outputExpanded": false,
        "jupyter": {
          "source_hidden": false,
          "outputs_hidden": false
        },
        "nteract": {
          "transient": {
            "deleting": false
          }
        },
        "execution": {
          "iopub.status.busy": "2020-05-16T19:15:34.340Z",
          "iopub.execute_input": "2020-05-16T19:15:34.357Z",
          "iopub.status.idle": "2020-05-16T19:15:34.381Z"
        }
      }
    },
    {
      "cell_type": "code",
      "source": [
        "# RUN PARAMETER STUDY\n",
        "\n",
        "function run_parameter_study()\n",
        "    epsilon_greedy_perf = []\n",
        "    epsilon_greedy_optimistic_perf = []\n",
        "    ucb_perf = []\n",
        "    gradient_perf = []\n",
        "\n",
        "    println(\"Running parameter studies...\")\n",
        "\n",
        "    for val in HYPERPARAM_VALUES\n",
        "        # intitialize models with the particular hyperparameter value\n",
        "        # then run simulations and record performance\n",
        "        \n",
        "        # ε-greedy, varying ε (exploration)\n",
        "        if val <= 1 # epsilon is a probability\n",
        "            epsilon_greedy_model = EpsilonGreedyModel(val, zeros(K))\n",
        "            VERBOSE && println(\"\\nTesting ε-greedy algorithm (ε = $val)...\")\n",
        "            perf = VERBOSE ? (@time test_model(epsilon_greedy_model)) : test_model(epsilon_greedy_model)\n",
        "            push!(epsilon_greedy_perf, perf)\n",
        "        else\n",
        "            push!(epsilon_greedy_perf, 0.0)\n",
        "        end\n",
        "\n",
        "        # optimistic ε-greedy, varying Q0 (initialization)\n",
        "        epsilon_greedy_optimistic_model = EpsilonGreedyModel(EPSILON, fill(val, K))\n",
        "        VERBOSE && println(\"\\nTesting ε-greedy algorithm with optimistic initializations (Q0 = $val)...\")\n",
        "        perf = VERBOSE ? (@time test_model(epsilon_greedy_optimistic_model)) : test_model(epsilon_greedy_optimistic_model)\n",
        "        push!(epsilon_greedy_optimistic_perf, perf)\n",
        "\n",
        "        # upper confidence bound, varying c (confidence)\n",
        "        ucb_model = UcbModel(val, zeros(K), zeros(K), 0)\n",
        "        VERBOSE && println(\"\\nTesting upper confidence bound (UCB) algorithm (c = $val)...\")\n",
        "        perf = VERBOSE ? (@time test_model(ucb_model)) : test_model(ucb_model)\n",
        "        push!(ucb_perf, perf)\n",
        "\n",
        "        # stochastic gradient ascent, varying α (step size)\n",
        "        gradient_model = GradientModel(val, zeros(K), NaN)\n",
        "        VERBOSE && println(\"\\nTesting stochastic gradient ascent algorithm (α = $val)...\")\n",
        "        perf = VERBOSE ? (@time test_model(gradient_model)) : test_model(gradient_model)\n",
        "        push!(gradient_perf, perf)\n",
        "    end\n",
        "\n",
        "    println(\"\\nParameter studies complete!\")\n",
        "    epsilon_greedy_perf, epsilon_greedy_optimistic_perf, ucb_perf, gradient_perf\n",
        "end\n",
        "\n",
        "epsilon_greedy_perf, epsilon_greedy_optimistic_perf, ucb_perf, gradient_perf = @timev run_parameter_study();"
      ],
      "outputs": [],
      "execution_count": null,
      "metadata": {
        "collapsed": true,
        "outputExpanded": false,
        "jupyter": {
          "source_hidden": false,
          "outputs_hidden": false
        },
        "nteract": {
          "transient": {
            "deleting": false
          }
        },
        "execution": {
          "iopub.status.busy": "2020-05-16T19:15:34.407Z",
          "iopub.execute_input": "2020-05-16T19:15:34.426Z",
          "iopub.status.idle": "2020-05-16T19:16:00.071Z"
        }
      }
    },
    {
      "cell_type": "code",
      "source": [
        "# Plot results\n",
        "println(\"Plotting results of studies...\")\n",
        "plotly()\n",
        "\n",
        "plot(HYPERPARAM_VALUES, epsilon_greedy_perf, label=\"ε-greedy (x=ε)\")\n",
        "plot!(HYPERPARAM_VALUES, epsilon_greedy_optimistic_perf, label=\"ε-greedy with optimistic initialization (x=Q0)\")\n",
        "plot!(HYPERPARAM_VALUES, ucb_perf, label=\"upper confidence bound (x=c)\")\n",
        "plot!(HYPERPARAM_VALUES, gradient_perf, label=\"gradient ascent (x=α)\")\n",
        "\n",
        "plot!(title=\"Parameter Study for Nonstationary Problem\", xaxis=(\"hyperparameter (x) value\", :log), yaxis=(\"average reward over steps $(fld(STEPS, 2) + 1)-$STEPS\"), legend=:outertopright, size=(1200, 800))"
      ],
      "outputs": [],
      "execution_count": null,
      "metadata": {
        "collapsed": true,
        "outputExpanded": false,
        "jupyter": {
          "source_hidden": false,
          "outputs_hidden": false
        },
        "nteract": {
          "transient": {
            "deleting": false
          }
        },
        "execution": {
          "iopub.status.busy": "2020-05-16T19:16:00.092Z",
          "iopub.execute_input": "2020-05-16T19:16:00.104Z",
          "iopub.status.idle": "2020-05-16T19:16:38.477Z"
        }
      }
    }
  ],
  "metadata": {
    "kernel_info": {
      "name": "julia-1.4"
    },
    "language_info": {
      "file_extension": ".jl",
      "name": "julia",
      "mimetype": "application/julia",
      "version": "1.4.1"
    },
    "kernelspec": {
      "argv": [
        "C:\\Users\\brynn\\AppData\\Local\\Programs\\Julia\\Julia-1.4.1\\bin\\julia.exe",
        "-i",
        "--startup-file=yes",
        "--color=yes",
        "--project=@.",
        "C:\\Users\\brynn\\.julia\\packages\\IJulia\\DrVMH\\src\\kernel.jl",
        "{connection_file}"
      ],
      "display_name": "Julia 1.4.1",
      "env": {},
      "interrupt_mode": "message",
      "language": "julia",
      "name": "julia-1.4"
    },
    "nteract": {
      "version": "0.23.1"
    }
  },
  "nbformat": 4,
  "nbformat_minor": 0
}